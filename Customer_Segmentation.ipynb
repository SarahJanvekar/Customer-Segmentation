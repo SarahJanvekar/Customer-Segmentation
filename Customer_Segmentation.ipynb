{
 "cells": [
  {
   "cell_type": "markdown",
   "id": "0a8e538a",
   "metadata": {},
   "source": [
    "# Customer Segmentation (Mall Customers)\n",
    "---\n",
    "This project clusters mall customers based on **Annual Income** and **Spending Score** using the K-Means algorithm."
   ]
  },
  {
   "cell_type": "markdown",
   "id": "d66ce016",
   "metadata": {},
   "source": [
    "## Step 1: Import Libraries"
   ]
  },
  {
   "cell_type": "code",
   "execution_count": null,
   "id": "572a0451",
   "metadata": {},
   "outputs": [],
   "source": [
    "\n",
    "import pandas as pd\n",
    "import matplotlib.pyplot as plt\n",
    "import seaborn as sns\n",
    "from sklearn.cluster import KMeans\n"
   ]
  },
  {
   "cell_type": "markdown",
   "id": "0757b13b",
   "metadata": {},
   "source": [
    "## Step 2: Load Dataset\n",
    "The dataset contains CustomerID, Gender, Age, Annual Income, and Spending Score."
   ]
  },
  {
   "cell_type": "code",
   "execution_count": null,
   "id": "ffa4d934",
   "metadata": {},
   "outputs": [],
   "source": [
    "\n",
    "# Load dataset (replace path with actual file if available)\n",
    "data = pd.read_csv(\"Mall_Customers.csv\")\n",
    "data.head()\n"
   ]
  },
  {
   "cell_type": "markdown",
   "id": "6cc5b1c6",
   "metadata": {},
   "source": [
    "## Step 3: Data Preprocessing\n",
    "We only need **Annual Income** and **Spending Score** for clustering."
   ]
  },
  {
   "cell_type": "code",
   "execution_count": null,
   "id": "322ddc35",
   "metadata": {},
   "outputs": [],
   "source": [
    "\n",
    "X = data[['Annual Income (k$)', 'Spending Score (1-100)']]\n",
    "X.head()\n"
   ]
  },
  {
   "cell_type": "markdown",
   "id": "08b199b4",
   "metadata": {},
   "source": [
    "## Step 4: Finding Optimal Clusters (Elbow Method)"
   ]
  },
  {
   "cell_type": "code",
   "execution_count": null,
   "id": "3e6fd307",
   "metadata": {},
   "outputs": [],
   "source": [
    "\n",
    "wcss = []\n",
    "for i in range(1, 11):\n",
    "    kmeans = KMeans(n_clusters=i, random_state=42, n_init=10)\n",
    "    kmeans.fit(X)\n",
    "    wcss.append(kmeans.inertia_)\n",
    "\n",
    "plt.plot(range(1, 11), wcss, marker='o')\n",
    "plt.xlabel('Number of Clusters')\n",
    "plt.ylabel('WCSS')\n",
    "plt.title('Elbow Method')\n",
    "plt.show()\n"
   ]
  },
  {
   "cell_type": "markdown",
   "id": "f9560611",
   "metadata": {},
   "source": [
    "## Step 5: Apply K-Means Clustering\n",
    "Based on the Elbow curve, choose the best number of clusters (e.g., 5)."
   ]
  },
  {
   "cell_type": "code",
   "execution_count": null,
   "id": "4bf6310e",
   "metadata": {},
   "outputs": [],
   "source": [
    "\n",
    "kmeans = KMeans(n_clusters=5, random_state=42, n_init=10)\n",
    "data['Cluster'] = kmeans.fit_predict(X)\n",
    "data.head()\n"
   ]
  },
  {
   "cell_type": "markdown",
   "id": "1d84968f",
   "metadata": {},
   "source": [
    "## Step 6: Visualize Customer Segments"
   ]
  },
  {
   "cell_type": "code",
   "execution_count": null,
   "id": "480e308a",
   "metadata": {},
   "outputs": [],
   "source": [
    "\n",
    "plt.figure(figsize=(8,6))\n",
    "sns.scatterplot(x='Annual Income (k$)', y='Spending Score (1-100)',\n",
    "                hue='Cluster', data=data, palette='Set1', s=100)\n",
    "plt.title('Customer Segments')\n",
    "plt.show()\n"
   ]
  },
  {
   "cell_type": "markdown",
   "id": "349a8b5a",
   "metadata": {},
   "source": [
    "## Step 7: Analyze Clusters\n",
    "Check the average Annual Income and Spending Score for each cluster."
   ]
  },
  {
   "cell_type": "code",
   "execution_count": null,
   "id": "4a7347fa",
   "metadata": {},
   "outputs": [],
   "source": [
    "\n",
    "data.groupby('Cluster')[['Annual Income (k$)', 'Spending Score (1-100)']].mean()\n"
   ]
  },
  {
   "cell_type": "markdown",
   "id": "67d3d556",
   "metadata": {},
   "source": [
    "## Step 8: Insights & Personas\n",
    "- High Income + High Spending → Premium Customers\n",
    "- Low Income + High Spending → Carefree Shoppers\n",
    "- High Income + Low Spending → Cautious Customers\n",
    "- Low Income + Low Spending → Budget Customers\n",
    "\n",
    "These clusters can help in **targeted marketing** strategies."
   ]
  }
 ],
 "metadata": {},
 "nbformat": 4,
 "nbformat_minor": 5
}
